{
 "cells": [
  {
   "cell_type": "code",
   "execution_count": 1,
   "metadata": {},
   "outputs": [],
   "source": [
    "import pandas as pd\n",
    "import seaborn as sns\n",
    "\n",
    "%matplotlib inline"
   ]
  },
  {
   "cell_type": "code",
   "execution_count": 52,
   "metadata": {},
   "outputs": [],
   "source": [
    "df = pd.read_csv('data.csv')"
   ]
  },
  {
   "cell_type": "code",
   "execution_count": 53,
   "metadata": {},
   "outputs": [
    {
     "data": {
      "text/html": [
       "<div>\n",
       "<style scoped>\n",
       "    .dataframe tbody tr th:only-of-type {\n",
       "        vertical-align: middle;\n",
       "    }\n",
       "\n",
       "    .dataframe tbody tr th {\n",
       "        vertical-align: top;\n",
       "    }\n",
       "\n",
       "    .dataframe thead th {\n",
       "        text-align: right;\n",
       "    }\n",
       "</style>\n",
       "<table border=\"1\" class=\"dataframe\">\n",
       "  <thead>\n",
       "    <tr style=\"text-align: right;\">\n",
       "      <th></th>\n",
       "      <th>sample index</th>\n",
       "      <th>class_label</th>\n",
       "      <th>sensor0</th>\n",
       "      <th>sensor1</th>\n",
       "      <th>sensor2</th>\n",
       "      <th>sensor3</th>\n",
       "      <th>sensor4</th>\n",
       "      <th>sensor5</th>\n",
       "      <th>sensor6</th>\n",
       "      <th>sensor7</th>\n",
       "      <th>sensor8</th>\n",
       "      <th>sensor9</th>\n",
       "    </tr>\n",
       "  </thead>\n",
       "  <tbody>\n",
       "    <tr>\n",
       "      <th>0</th>\n",
       "      <td>sample0</td>\n",
       "      <td>1.0</td>\n",
       "      <td>0.834251</td>\n",
       "      <td>0.726081</td>\n",
       "      <td>0.535904</td>\n",
       "      <td>0.214896</td>\n",
       "      <td>0.873788</td>\n",
       "      <td>0.767605</td>\n",
       "      <td>0.111308</td>\n",
       "      <td>0.557526</td>\n",
       "      <td>0.599650</td>\n",
       "      <td>0.665569</td>\n",
       "    </tr>\n",
       "    <tr>\n",
       "      <th>1</th>\n",
       "      <td>sample1</td>\n",
       "      <td>1.0</td>\n",
       "      <td>0.804059</td>\n",
       "      <td>0.253135</td>\n",
       "      <td>0.869867</td>\n",
       "      <td>0.334285</td>\n",
       "      <td>0.604075</td>\n",
       "      <td>0.494045</td>\n",
       "      <td>0.833575</td>\n",
       "      <td>0.194190</td>\n",
       "      <td>0.014966</td>\n",
       "      <td>0.802918</td>\n",
       "    </tr>\n",
       "    <tr>\n",
       "      <th>2</th>\n",
       "      <td>sample2</td>\n",
       "      <td>1.0</td>\n",
       "      <td>0.694404</td>\n",
       "      <td>0.595777</td>\n",
       "      <td>0.581294</td>\n",
       "      <td>0.799003</td>\n",
       "      <td>0.762857</td>\n",
       "      <td>0.651393</td>\n",
       "      <td>0.075905</td>\n",
       "      <td>0.007186</td>\n",
       "      <td>0.659633</td>\n",
       "      <td>0.831009</td>\n",
       "    </tr>\n",
       "    <tr>\n",
       "      <th>3</th>\n",
       "      <td>sample3</td>\n",
       "      <td>1.0</td>\n",
       "      <td>0.783690</td>\n",
       "      <td>0.038780</td>\n",
       "      <td>0.285043</td>\n",
       "      <td>0.627305</td>\n",
       "      <td>0.800620</td>\n",
       "      <td>0.486340</td>\n",
       "      <td>0.827723</td>\n",
       "      <td>0.339807</td>\n",
       "      <td>0.731343</td>\n",
       "      <td>0.892359</td>\n",
       "    </tr>\n",
       "    <tr>\n",
       "      <th>4</th>\n",
       "      <td>sample4</td>\n",
       "      <td>1.0</td>\n",
       "      <td>0.788835</td>\n",
       "      <td>0.174433</td>\n",
       "      <td>0.348770</td>\n",
       "      <td>0.938244</td>\n",
       "      <td>0.692065</td>\n",
       "      <td>0.377620</td>\n",
       "      <td>0.183760</td>\n",
       "      <td>0.616805</td>\n",
       "      <td>0.492899</td>\n",
       "      <td>0.930969</td>\n",
       "    </tr>\n",
       "  </tbody>\n",
       "</table>\n",
       "</div>"
      ],
      "text/plain": [
       "  sample index  class_label   sensor0   sensor1   sensor2   sensor3   sensor4  \\\n",
       "0      sample0          1.0  0.834251  0.726081  0.535904  0.214896  0.873788   \n",
       "1      sample1          1.0  0.804059  0.253135  0.869867  0.334285  0.604075   \n",
       "2      sample2          1.0  0.694404  0.595777  0.581294  0.799003  0.762857   \n",
       "3      sample3          1.0  0.783690  0.038780  0.285043  0.627305  0.800620   \n",
       "4      sample4          1.0  0.788835  0.174433  0.348770  0.938244  0.692065   \n",
       "\n",
       "    sensor5   sensor6   sensor7   sensor8   sensor9  \n",
       "0  0.767605  0.111308  0.557526  0.599650  0.665569  \n",
       "1  0.494045  0.833575  0.194190  0.014966  0.802918  \n",
       "2  0.651393  0.075905  0.007186  0.659633  0.831009  \n",
       "3  0.486340  0.827723  0.339807  0.731343  0.892359  \n",
       "4  0.377620  0.183760  0.616805  0.492899  0.930969  "
      ]
     },
     "execution_count": 53,
     "metadata": {},
     "output_type": "execute_result"
    }
   ],
   "source": [
    "df.head()"
   ]
  },
  {
   "cell_type": "code",
   "execution_count": 5,
   "metadata": {},
   "outputs": [
    {
     "name": "stdout",
     "output_type": "stream",
     "text": [
      "<class 'pandas.core.frame.DataFrame'>\n",
      "RangeIndex: 400 entries, 0 to 399\n",
      "Data columns (total 12 columns):\n",
      "sample index    400 non-null object\n",
      "class_label     400 non-null float64\n",
      "sensor0         400 non-null float64\n",
      "sensor1         400 non-null float64\n",
      "sensor2         400 non-null float64\n",
      "sensor3         400 non-null float64\n",
      "sensor4         400 non-null float64\n",
      "sensor5         400 non-null float64\n",
      "sensor6         400 non-null float64\n",
      "sensor7         400 non-null float64\n",
      "sensor8         400 non-null float64\n",
      "sensor9         400 non-null float64\n",
      "dtypes: float64(11), object(1)\n",
      "memory usage: 37.6+ KB\n"
     ]
    }
   ],
   "source": [
    "df.info()"
   ]
  },
  {
   "cell_type": "code",
   "execution_count": 6,
   "metadata": {},
   "outputs": [
    {
     "data": {
      "text/html": [
       "<div>\n",
       "<style scoped>\n",
       "    .dataframe tbody tr th:only-of-type {\n",
       "        vertical-align: middle;\n",
       "    }\n",
       "\n",
       "    .dataframe tbody tr th {\n",
       "        vertical-align: top;\n",
       "    }\n",
       "\n",
       "    .dataframe thead th {\n",
       "        text-align: right;\n",
       "    }\n",
       "</style>\n",
       "<table border=\"1\" class=\"dataframe\">\n",
       "  <thead>\n",
       "    <tr style=\"text-align: right;\">\n",
       "      <th></th>\n",
       "      <th>class_label</th>\n",
       "      <th>sensor0</th>\n",
       "      <th>sensor1</th>\n",
       "      <th>sensor2</th>\n",
       "      <th>sensor3</th>\n",
       "      <th>sensor4</th>\n",
       "      <th>sensor5</th>\n",
       "      <th>sensor6</th>\n",
       "      <th>sensor7</th>\n",
       "      <th>sensor8</th>\n",
       "      <th>sensor9</th>\n",
       "    </tr>\n",
       "  </thead>\n",
       "  <tbody>\n",
       "    <tr>\n",
       "      <th>count</th>\n",
       "      <td>400.000000</td>\n",
       "      <td>400.000000</td>\n",
       "      <td>400.000000</td>\n",
       "      <td>400.000000</td>\n",
       "      <td>400.000000</td>\n",
       "      <td>400.000000</td>\n",
       "      <td>400.000000</td>\n",
       "      <td>400.000000</td>\n",
       "      <td>400.000000</td>\n",
       "      <td>400.000000</td>\n",
       "      <td>400.000000</td>\n",
       "    </tr>\n",
       "    <tr>\n",
       "      <th>mean</th>\n",
       "      <td>0.000000</td>\n",
       "      <td>0.523661</td>\n",
       "      <td>0.509223</td>\n",
       "      <td>0.481238</td>\n",
       "      <td>0.509752</td>\n",
       "      <td>0.497875</td>\n",
       "      <td>0.501065</td>\n",
       "      <td>0.490480</td>\n",
       "      <td>0.482372</td>\n",
       "      <td>0.482822</td>\n",
       "      <td>0.541933</td>\n",
       "    </tr>\n",
       "    <tr>\n",
       "      <th>std</th>\n",
       "      <td>1.001252</td>\n",
       "      <td>0.268194</td>\n",
       "      <td>0.276878</td>\n",
       "      <td>0.287584</td>\n",
       "      <td>0.297712</td>\n",
       "      <td>0.288208</td>\n",
       "      <td>0.287634</td>\n",
       "      <td>0.289954</td>\n",
       "      <td>0.282714</td>\n",
       "      <td>0.296180</td>\n",
       "      <td>0.272490</td>\n",
       "    </tr>\n",
       "    <tr>\n",
       "      <th>min</th>\n",
       "      <td>-1.000000</td>\n",
       "      <td>0.007775</td>\n",
       "      <td>0.003865</td>\n",
       "      <td>0.004473</td>\n",
       "      <td>0.001466</td>\n",
       "      <td>0.000250</td>\n",
       "      <td>0.000425</td>\n",
       "      <td>0.000173</td>\n",
       "      <td>0.003322</td>\n",
       "      <td>0.003165</td>\n",
       "      <td>0.000452</td>\n",
       "    </tr>\n",
       "    <tr>\n",
       "      <th>25%</th>\n",
       "      <td>-1.000000</td>\n",
       "      <td>0.299792</td>\n",
       "      <td>0.283004</td>\n",
       "      <td>0.235544</td>\n",
       "      <td>0.262697</td>\n",
       "      <td>0.249369</td>\n",
       "      <td>0.269430</td>\n",
       "      <td>0.226687</td>\n",
       "      <td>0.242848</td>\n",
       "      <td>0.213626</td>\n",
       "      <td>0.321264</td>\n",
       "    </tr>\n",
       "    <tr>\n",
       "      <th>50%</th>\n",
       "      <td>0.000000</td>\n",
       "      <td>0.534906</td>\n",
       "      <td>0.507583</td>\n",
       "      <td>0.460241</td>\n",
       "      <td>0.510066</td>\n",
       "      <td>0.497842</td>\n",
       "      <td>0.497108</td>\n",
       "      <td>0.477341</td>\n",
       "      <td>0.463438</td>\n",
       "      <td>0.462251</td>\n",
       "      <td>0.578389</td>\n",
       "    </tr>\n",
       "    <tr>\n",
       "      <th>75%</th>\n",
       "      <td>1.000000</td>\n",
       "      <td>0.751887</td>\n",
       "      <td>0.727843</td>\n",
       "      <td>0.734937</td>\n",
       "      <td>0.768975</td>\n",
       "      <td>0.743401</td>\n",
       "      <td>0.738854</td>\n",
       "      <td>0.735304</td>\n",
       "      <td>0.732483</td>\n",
       "      <td>0.740542</td>\n",
       "      <td>0.768990</td>\n",
       "    </tr>\n",
       "    <tr>\n",
       "      <th>max</th>\n",
       "      <td>1.000000</td>\n",
       "      <td>0.999476</td>\n",
       "      <td>0.998680</td>\n",
       "      <td>0.992963</td>\n",
       "      <td>0.995119</td>\n",
       "      <td>0.999412</td>\n",
       "      <td>0.997367</td>\n",
       "      <td>0.997141</td>\n",
       "      <td>0.998230</td>\n",
       "      <td>0.996098</td>\n",
       "      <td>0.999465</td>\n",
       "    </tr>\n",
       "  </tbody>\n",
       "</table>\n",
       "</div>"
      ],
      "text/plain": [
       "       class_label     sensor0     sensor1     sensor2     sensor3  \\\n",
       "count   400.000000  400.000000  400.000000  400.000000  400.000000   \n",
       "mean      0.000000    0.523661    0.509223    0.481238    0.509752   \n",
       "std       1.001252    0.268194    0.276878    0.287584    0.297712   \n",
       "min      -1.000000    0.007775    0.003865    0.004473    0.001466   \n",
       "25%      -1.000000    0.299792    0.283004    0.235544    0.262697   \n",
       "50%       0.000000    0.534906    0.507583    0.460241    0.510066   \n",
       "75%       1.000000    0.751887    0.727843    0.734937    0.768975   \n",
       "max       1.000000    0.999476    0.998680    0.992963    0.995119   \n",
       "\n",
       "          sensor4     sensor5     sensor6     sensor7     sensor8     sensor9  \n",
       "count  400.000000  400.000000  400.000000  400.000000  400.000000  400.000000  \n",
       "mean     0.497875    0.501065    0.490480    0.482372    0.482822    0.541933  \n",
       "std      0.288208    0.287634    0.289954    0.282714    0.296180    0.272490  \n",
       "min      0.000250    0.000425    0.000173    0.003322    0.003165    0.000452  \n",
       "25%      0.249369    0.269430    0.226687    0.242848    0.213626    0.321264  \n",
       "50%      0.497842    0.497108    0.477341    0.463438    0.462251    0.578389  \n",
       "75%      0.743401    0.738854    0.735304    0.732483    0.740542    0.768990  \n",
       "max      0.999412    0.997367    0.997141    0.998230    0.996098    0.999465  "
      ]
     },
     "execution_count": 6,
     "metadata": {},
     "output_type": "execute_result"
    }
   ],
   "source": [
    "df.describe()"
   ]
  },
  {
   "cell_type": "code",
   "execution_count": 10,
   "metadata": {},
   "outputs": [
    {
     "data": {
      "text/html": [
       "<div>\n",
       "<style scoped>\n",
       "    .dataframe tbody tr th:only-of-type {\n",
       "        vertical-align: middle;\n",
       "    }\n",
       "\n",
       "    .dataframe tbody tr th {\n",
       "        vertical-align: top;\n",
       "    }\n",
       "\n",
       "    .dataframe thead th {\n",
       "        text-align: right;\n",
       "    }\n",
       "</style>\n",
       "<table border=\"1\" class=\"dataframe\">\n",
       "  <thead>\n",
       "    <tr style=\"text-align: right;\">\n",
       "      <th></th>\n",
       "      <th>sample index</th>\n",
       "      <th>class_label</th>\n",
       "      <th>sensor0</th>\n",
       "      <th>sensor1</th>\n",
       "      <th>sensor2</th>\n",
       "      <th>sensor3</th>\n",
       "      <th>sensor4</th>\n",
       "      <th>sensor5</th>\n",
       "      <th>sensor6</th>\n",
       "      <th>sensor7</th>\n",
       "      <th>sensor8</th>\n",
       "      <th>sensor9</th>\n",
       "    </tr>\n",
       "  </thead>\n",
       "  <tbody>\n",
       "    <tr>\n",
       "      <th>0</th>\n",
       "      <td>False</td>\n",
       "      <td>False</td>\n",
       "      <td>False</td>\n",
       "      <td>False</td>\n",
       "      <td>False</td>\n",
       "      <td>False</td>\n",
       "      <td>False</td>\n",
       "      <td>False</td>\n",
       "      <td>False</td>\n",
       "      <td>False</td>\n",
       "      <td>False</td>\n",
       "      <td>False</td>\n",
       "    </tr>\n",
       "    <tr>\n",
       "      <th>1</th>\n",
       "      <td>False</td>\n",
       "      <td>False</td>\n",
       "      <td>False</td>\n",
       "      <td>False</td>\n",
       "      <td>False</td>\n",
       "      <td>False</td>\n",
       "      <td>False</td>\n",
       "      <td>False</td>\n",
       "      <td>False</td>\n",
       "      <td>False</td>\n",
       "      <td>False</td>\n",
       "      <td>False</td>\n",
       "    </tr>\n",
       "    <tr>\n",
       "      <th>2</th>\n",
       "      <td>False</td>\n",
       "      <td>False</td>\n",
       "      <td>False</td>\n",
       "      <td>False</td>\n",
       "      <td>False</td>\n",
       "      <td>False</td>\n",
       "      <td>False</td>\n",
       "      <td>False</td>\n",
       "      <td>False</td>\n",
       "      <td>False</td>\n",
       "      <td>False</td>\n",
       "      <td>False</td>\n",
       "    </tr>\n",
       "    <tr>\n",
       "      <th>3</th>\n",
       "      <td>False</td>\n",
       "      <td>False</td>\n",
       "      <td>False</td>\n",
       "      <td>False</td>\n",
       "      <td>False</td>\n",
       "      <td>False</td>\n",
       "      <td>False</td>\n",
       "      <td>False</td>\n",
       "      <td>False</td>\n",
       "      <td>False</td>\n",
       "      <td>False</td>\n",
       "      <td>False</td>\n",
       "    </tr>\n",
       "    <tr>\n",
       "      <th>4</th>\n",
       "      <td>False</td>\n",
       "      <td>False</td>\n",
       "      <td>False</td>\n",
       "      <td>False</td>\n",
       "      <td>False</td>\n",
       "      <td>False</td>\n",
       "      <td>False</td>\n",
       "      <td>False</td>\n",
       "      <td>False</td>\n",
       "      <td>False</td>\n",
       "      <td>False</td>\n",
       "      <td>False</td>\n",
       "    </tr>\n",
       "  </tbody>\n",
       "</table>\n",
       "</div>"
      ],
      "text/plain": [
       "   sample index  class_label  sensor0  sensor1  sensor2  sensor3  sensor4  \\\n",
       "0         False        False    False    False    False    False    False   \n",
       "1         False        False    False    False    False    False    False   \n",
       "2         False        False    False    False    False    False    False   \n",
       "3         False        False    False    False    False    False    False   \n",
       "4         False        False    False    False    False    False    False   \n",
       "\n",
       "   sensor5  sensor6  sensor7  sensor8  sensor9  \n",
       "0    False    False    False    False    False  \n",
       "1    False    False    False    False    False  \n",
       "2    False    False    False    False    False  \n",
       "3    False    False    False    False    False  \n",
       "4    False    False    False    False    False  "
      ]
     },
     "execution_count": 10,
     "metadata": {},
     "output_type": "execute_result"
    }
   ],
   "source": [
    "df.isnull().head()"
   ]
  },
  {
   "cell_type": "code",
   "execution_count": 12,
   "metadata": {},
   "outputs": [
    {
     "data": {
      "text/plain": [
       "<matplotlib.axes._subplots.AxesSubplot at 0x264dcc63438>"
      ]
     },
     "execution_count": 12,
     "metadata": {},
     "output_type": "execute_result"
    },
    {
     "data": {
      "image/png": "[encoded data removed]",
      "text/plain": [
       "<Figure size 432x288 with 2 Axes>"
      ]
     },
     "metadata": {
      "needs_background": "light"
     },
     "output_type": "display_data"
    }
   ],
   "source": [
    "sns.heatmap(data = df.isnull(), )"
   ]
  },
  {
   "cell_type": "code",
   "execution_count": 15,
   "metadata": {},
   "outputs": [
    {
     "data": {
      "text/plain": [
       "<matplotlib.axes._subplots.AxesSubplot at 0x264dd8e3a90>"
      ]
     },
     "execution_count": 15,
     "metadata": {},
     "output_type": "execute_result"
    },
    {
     "data": {
      "image/png": "[encoded data removed]",
      "text/plain": [
       "<Figure size 432x288 with 1 Axes>"
      ]
     },
     "metadata": {
      "needs_background": "light"
     },
     "output_type": "display_data"
    }
   ],
   "source": [
    "# Univeriate plotting\n",
    "\n",
    "sns.distplot(df['class_label'], kde = True, bins = 30)"
   ]
  },
  {
   "cell_type": "code",
   "execution_count": 14,
   "metadata": {},
   "outputs": [
    {
     "data": {
      "text/plain": [
       "<matplotlib.axes._subplots.AxesSubplot at 0x264dd759e48>"
      ]
     },
     "execution_count": 14,
     "metadata": {},
     "output_type": "execute_result"
    },
    {
     "data": {
      "image/png": "[encoded data removed]",
      "text/plain": [
       "<Figure size 432x288 with 1 Axes>"
      ]
     },
     "metadata": {
      "needs_background": "light"
     },
     "output_type": "display_data"
    }
   ],
   "source": [
    "sns.distplot(df['sensor0'], kde = True, bins = 30)"
   ]
  },
  {
   "cell_type": "code",
   "execution_count": 16,
   "metadata": {},
   "outputs": [
    {
     "data": {
      "text/plain": [
       "<seaborn.axisgrid.JointGrid at 0x264dd76d748>"
      ]
     },
     "execution_count": 16,
     "metadata": {},
     "output_type": "execute_result"
    },
    {
     "data": {
      "image/png": "[encoded data removed]",
      "text/plain": [
       "<Figure size 432x432 with 3 Axes>"
      ]
     },
     "metadata": {
      "needs_background": "light"
     },
     "output_type": "display_data"
    }
   ],
   "source": [
    "# Bivariate Plotting\n",
    "\n",
    "sns.jointplot(x = 'sensor0', y = 'class_label', data = df)"
   ]
  },
  {
   "cell_type": "code",
   "execution_count": 17,
   "metadata": {},
   "outputs": [
    {
     "data": {
      "text/plain": [
       "<seaborn.axisgrid.JointGrid at 0x264dd1f3908>"
      ]
     },
     "execution_count": 17,
     "metadata": {},
     "output_type": "execute_result"
    },
    {
     "data": {
      "image/png": "[encoded data removed]",
      "text/plain": [
       "<Figure size 432x432 with 3 Axes>"
      ]
     },
     "metadata": {
      "needs_background": "light"
     },
     "output_type": "display_data"
    }
   ],
   "source": [
    "sns.jointplot(x = 'sensor1', y = 'class_label', data = df)"
   ]
  },
  {
   "cell_type": "code",
   "execution_count": 19,
   "metadata": {},
   "outputs": [
    {
     "data": {
      "text/plain": [
       "<seaborn.axisgrid.JointGrid at 0x264dd9ba8d0>"
      ]
     },
     "execution_count": 19,
     "metadata": {},
     "output_type": "execute_result"
    },
    {
     "data": {
      "image/png": "[encoded data removed]",
      "text/plain": [
       "<Figure size 432x432 with 3 Axes>"
      ]
     },
     "metadata": {
      "needs_background": "light"
     },
     "output_type": "display_data"
    }
   ],
   "source": [
    "sns.jointplot(x = 'sensor0', y = 'sensor1', data = df)"
   ]
  },
  {
   "cell_type": "code",
   "execution_count": 20,
   "metadata": {},
   "outputs": [
    {
     "data": {
      "text/plain": [
       "<matplotlib.axes._subplots.AxesSubplot at 0x264dd1d3f98>"
      ]
     },
     "execution_count": 20,
     "metadata": {},
     "output_type": "execute_result"
    },
    {
     "data": {
      "image/png": "[encoded data removed]",
      "text/plain": [
       "<Figure size 432x288 with 1 Axes>"
      ]
     },
     "metadata": {
      "needs_background": "light"
     },
     "output_type": "display_data"
    }
   ],
   "source": [
    "sns.barplot(x = 'class_label', y = 'sensor0', data = df)"
   ]
  },
  {
   "cell_type": "code",
   "execution_count": 22,
   "metadata": {},
   "outputs": [
    {
     "data": {
      "text/plain": [
       "<matplotlib.axes._subplots.AxesSubplot at 0x264ddf0d8d0>"
      ]
     },
     "execution_count": 22,
     "metadata": {},
     "output_type": "execute_result"
    },
    {
     "data": {
      "image/png": "[encoded data removed]",
      "text/plain": [
       "<Figure size 432x288 with 1 Axes>"
      ]
     },
     "metadata": {
      "needs_background": "light"
     },
     "output_type": "display_data"
    }
   ],
   "source": [
    "sns.barplot(x = 'class_label', y = 'sensor1', data = df)"
   ]
  },
  {
   "cell_type": "code",
   "execution_count": 23,
   "metadata": {},
   "outputs": [
    {
     "data": {
      "text/plain": [
       "0.5432950594605451"
      ]
     },
     "execution_count": 23,
     "metadata": {},
     "output_type": "execute_result"
    }
   ],
   "source": [
    "df['sensor0'].corr(df['class_label'])"
   ]
  },
  {
   "cell_type": "code",
   "execution_count": 24,
   "metadata": {},
   "outputs": [
    {
     "data": {
      "text/plain": [
       "-1.0    200\n",
       " 1.0    200\n",
       "Name: class_label, dtype: int64"
      ]
     },
     "execution_count": 24,
     "metadata": {},
     "output_type": "execute_result"
    }
   ],
   "source": [
    "df['class_label'].value_counts()"
   ]
  },
  {
   "cell_type": "code",
   "execution_count": 25,
   "metadata": {},
   "outputs": [
    {
     "data": {
      "text/plain": [
       "0    0.834251\n",
       "1    0.804059\n",
       "2    0.694404\n",
       "3    0.783690\n",
       "4    0.788835\n",
       "Name: sensor0, dtype: float64"
      ]
     },
     "execution_count": 25,
     "metadata": {},
     "output_type": "execute_result"
    }
   ],
   "source": [
    "df['sensor0'][:5]"
   ]
  },
  {
   "cell_type": "code",
   "execution_count": 28,
   "metadata": {},
   "outputs": [],
   "source": [
    "# sns.boxplot(x = df['sensor0'][:5], y = df['class_label'], data = df)"
   ]
  },
  {
   "cell_type": "code",
   "execution_count": 29,
   "metadata": {},
   "outputs": [
    {
     "data": {
      "text/html": [
       "<div>\n",
       "<style scoped>\n",
       "    .dataframe tbody tr th:only-of-type {\n",
       "        vertical-align: middle;\n",
       "    }\n",
       "\n",
       "    .dataframe tbody tr th {\n",
       "        vertical-align: top;\n",
       "    }\n",
       "\n",
       "    .dataframe thead th {\n",
       "        text-align: right;\n",
       "    }\n",
       "</style>\n",
       "<table border=\"1\" class=\"dataframe\">\n",
       "  <thead>\n",
       "    <tr style=\"text-align: right;\">\n",
       "      <th></th>\n",
       "      <th>class_label</th>\n",
       "      <th>sensor0</th>\n",
       "      <th>sensor1</th>\n",
       "      <th>sensor2</th>\n",
       "      <th>sensor3</th>\n",
       "      <th>sensor4</th>\n",
       "      <th>sensor5</th>\n",
       "      <th>sensor6</th>\n",
       "      <th>sensor7</th>\n",
       "      <th>sensor8</th>\n",
       "      <th>sensor9</th>\n",
       "    </tr>\n",
       "  </thead>\n",
       "  <tbody>\n",
       "    <tr>\n",
       "      <th>class_label</th>\n",
       "      <td>1.000000</td>\n",
       "      <td>0.543295</td>\n",
       "      <td>-0.252007</td>\n",
       "      <td>0.038775</td>\n",
       "      <td>0.433636</td>\n",
       "      <td>0.607623</td>\n",
       "      <td>0.224147</td>\n",
       "      <td>-0.007414</td>\n",
       "      <td>0.175612</td>\n",
       "      <td>0.660618</td>\n",
       "      <td>0.094907</td>\n",
       "    </tr>\n",
       "    <tr>\n",
       "      <th>sensor0</th>\n",
       "      <td>0.543295</td>\n",
       "      <td>1.000000</td>\n",
       "      <td>-0.215668</td>\n",
       "      <td>0.019521</td>\n",
       "      <td>0.253244</td>\n",
       "      <td>0.300760</td>\n",
       "      <td>0.164243</td>\n",
       "      <td>-0.007849</td>\n",
       "      <td>0.080306</td>\n",
       "      <td>0.361751</td>\n",
       "      <td>0.001317</td>\n",
       "    </tr>\n",
       "    <tr>\n",
       "      <th>sensor1</th>\n",
       "      <td>-0.252007</td>\n",
       "      <td>-0.215668</td>\n",
       "      <td>1.000000</td>\n",
       "      <td>0.056042</td>\n",
       "      <td>-0.111347</td>\n",
       "      <td>-0.130463</td>\n",
       "      <td>0.055401</td>\n",
       "      <td>-0.106082</td>\n",
       "      <td>0.031513</td>\n",
       "      <td>-0.163818</td>\n",
       "      <td>-0.023655</td>\n",
       "    </tr>\n",
       "    <tr>\n",
       "      <th>sensor2</th>\n",
       "      <td>0.038775</td>\n",
       "      <td>0.019521</td>\n",
       "      <td>0.056042</td>\n",
       "      <td>1.000000</td>\n",
       "      <td>0.093447</td>\n",
       "      <td>-0.023486</td>\n",
       "      <td>-0.008948</td>\n",
       "      <td>-0.057090</td>\n",
       "      <td>0.006899</td>\n",
       "      <td>-0.008308</td>\n",
       "      <td>-0.058528</td>\n",
       "    </tr>\n",
       "    <tr>\n",
       "      <th>sensor3</th>\n",
       "      <td>0.433636</td>\n",
       "      <td>0.253244</td>\n",
       "      <td>-0.111347</td>\n",
       "      <td>0.093447</td>\n",
       "      <td>1.000000</td>\n",
       "      <td>0.295136</td>\n",
       "      <td>0.038152</td>\n",
       "      <td>-0.105005</td>\n",
       "      <td>0.001243</td>\n",
       "      <td>0.287776</td>\n",
       "      <td>0.013732</td>\n",
       "    </tr>\n",
       "    <tr>\n",
       "      <th>sensor4</th>\n",
       "      <td>0.607623</td>\n",
       "      <td>0.300760</td>\n",
       "      <td>-0.130463</td>\n",
       "      <td>-0.023486</td>\n",
       "      <td>0.295136</td>\n",
       "      <td>1.000000</td>\n",
       "      <td>0.183916</td>\n",
       "      <td>-0.022690</td>\n",
       "      <td>0.090186</td>\n",
       "      <td>0.378306</td>\n",
       "      <td>0.023776</td>\n",
       "    </tr>\n",
       "    <tr>\n",
       "      <th>sensor5</th>\n",
       "      <td>0.224147</td>\n",
       "      <td>0.164243</td>\n",
       "      <td>0.055401</td>\n",
       "      <td>-0.008948</td>\n",
       "      <td>0.038152</td>\n",
       "      <td>0.183916</td>\n",
       "      <td>1.000000</td>\n",
       "      <td>-0.061238</td>\n",
       "      <td>0.020814</td>\n",
       "      <td>0.220014</td>\n",
       "      <td>0.071258</td>\n",
       "    </tr>\n",
       "    <tr>\n",
       "      <th>sensor6</th>\n",
       "      <td>-0.007414</td>\n",
       "      <td>-0.007849</td>\n",
       "      <td>-0.106082</td>\n",
       "      <td>-0.057090</td>\n",
       "      <td>-0.105005</td>\n",
       "      <td>-0.022690</td>\n",
       "      <td>-0.061238</td>\n",
       "      <td>1.000000</td>\n",
       "      <td>0.065211</td>\n",
       "      <td>-0.073309</td>\n",
       "      <td>0.040744</td>\n",
       "    </tr>\n",
       "    <tr>\n",
       "      <th>sensor7</th>\n",
       "      <td>0.175612</td>\n",
       "      <td>0.080306</td>\n",
       "      <td>0.031513</td>\n",
       "      <td>0.006899</td>\n",
       "      <td>0.001243</td>\n",
       "      <td>0.090186</td>\n",
       "      <td>0.020814</td>\n",
       "      <td>0.065211</td>\n",
       "      <td>1.000000</td>\n",
       "      <td>0.060028</td>\n",
       "      <td>0.059341</td>\n",
       "    </tr>\n",
       "    <tr>\n",
       "      <th>sensor8</th>\n",
       "      <td>0.660618</td>\n",
       "      <td>0.361751</td>\n",
       "      <td>-0.163818</td>\n",
       "      <td>-0.008308</td>\n",
       "      <td>0.287776</td>\n",
       "      <td>0.378306</td>\n",
       "      <td>0.220014</td>\n",
       "      <td>-0.073309</td>\n",
       "      <td>0.060028</td>\n",
       "      <td>1.000000</td>\n",
       "      <td>-0.033991</td>\n",
       "    </tr>\n",
       "    <tr>\n",
       "      <th>sensor9</th>\n",
       "      <td>0.094907</td>\n",
       "      <td>0.001317</td>\n",
       "      <td>-0.023655</td>\n",
       "      <td>-0.058528</td>\n",
       "      <td>0.013732</td>\n",
       "      <td>0.023776</td>\n",
       "      <td>0.071258</td>\n",
       "      <td>0.040744</td>\n",
       "      <td>0.059341</td>\n",
       "      <td>-0.033991</td>\n",
       "      <td>1.000000</td>\n",
       "    </tr>\n",
       "  </tbody>\n",
       "</table>\n",
       "</div>"
      ],
      "text/plain": [
       "             class_label   sensor0   sensor1   sensor2   sensor3   sensor4  \\\n",
       "class_label     1.000000  0.543295 -0.252007  0.038775  0.433636  0.607623   \n",
       "sensor0         0.543295  1.000000 -0.215668  0.019521  0.253244  0.300760   \n",
       "sensor1        -0.252007 -0.215668  1.000000  0.056042 -0.111347 -0.130463   \n",
       "sensor2         0.038775  0.019521  0.056042  1.000000  0.093447 -0.023486   \n",
       "sensor3         0.433636  0.253244 -0.111347  0.093447  1.000000  0.295136   \n",
       "sensor4         0.607623  0.300760 -0.130463 -0.023486  0.295136  1.000000   \n",
       "sensor5         0.224147  0.164243  0.055401 -0.008948  0.038152  0.183916   \n",
       "sensor6        -0.007414 -0.007849 -0.106082 -0.057090 -0.105005 -0.022690   \n",
       "sensor7         0.175612  0.080306  0.031513  0.006899  0.001243  0.090186   \n",
       "sensor8         0.660618  0.361751 -0.163818 -0.008308  0.287776  0.378306   \n",
       "sensor9         0.094907  0.001317 -0.023655 -0.058528  0.013732  0.023776   \n",
       "\n",
       "              sensor5   sensor6   sensor7   sensor8   sensor9  \n",
       "class_label  0.224147 -0.007414  0.175612  0.660618  0.094907  \n",
       "sensor0      0.164243 -0.007849  0.080306  0.361751  0.001317  \n",
       "sensor1      0.055401 -0.106082  0.031513 -0.163818 -0.023655  \n",
       "sensor2     -0.008948 -0.057090  0.006899 -0.008308 -0.058528  \n",
       "sensor3      0.038152 -0.105005  0.001243  0.287776  0.013732  \n",
       "sensor4      0.183916 -0.022690  0.090186  0.378306  0.023776  \n",
       "sensor5      1.000000 -0.061238  0.020814  0.220014  0.071258  \n",
       "sensor6     -0.061238  1.000000  0.065211 -0.073309  0.040744  \n",
       "sensor7      0.020814  0.065211  1.000000  0.060028  0.059341  \n",
       "sensor8      0.220014 -0.073309  0.060028  1.000000 -0.033991  \n",
       "sensor9      0.071258  0.040744  0.059341 -0.033991  1.000000  "
      ]
     },
     "execution_count": 29,
     "metadata": {},
     "output_type": "execute_result"
    }
   ],
   "source": [
    "df.corr()"
   ]
  },
  {
   "cell_type": "code",
   "execution_count": 37,
   "metadata": {},
   "outputs": [],
   "source": [
    "# df['sensor0'].corr(df['class_label'])"
   ]
  },
  {
   "cell_type": "code",
   "execution_count": 38,
   "metadata": {},
   "outputs": [
    {
     "name": "stdout",
     "output_type": "stream",
     "text": [
      "0.5432950594605451\n",
      "-0.2520073422600958\n",
      "0.03877543484999284\n",
      "0.43363644436420123\n",
      "0.6076228345496761\n",
      "0.22414719421524462\n",
      "-0.007414425122675147\n",
      "0.1756121918018469\n",
      "0.6606179222510381\n",
      "0.09490706714608717\n"
     ]
    }
   ],
   "source": [
    "print(df['sensor0'].corr(df['class_label']))\n",
    "print(df['sensor1'].corr(df['class_label']))\n",
    "print(df['sensor2'].corr(df['class_label']))\n",
    "print(df['sensor3'].corr(df['class_label']))\n",
    "print(df['sensor4'].corr(df['class_label']))\n",
    "print(df['sensor5'].corr(df['class_label']))\n",
    "print(df['sensor6'].corr(df['class_label']))\n",
    "print(df['sensor7'].corr(df['class_label']))\n",
    "print(df['sensor8'].corr(df['class_label']))\n",
    "print(df['sensor9'].corr(df['class_label']))"
   ]
  },
  {
   "cell_type": "code",
   "execution_count": 39,
   "metadata": {},
   "outputs": [],
   "source": [
    "# PCA\n",
    "\n",
    "from sklearn.preprocessing import StandardScalerardScaler"
   ]
  },
  {
   "cell_type": "code",
   "execution_count": 41,
   "metadata": {},
   "outputs": [],
   "source": [
    "scaler = StandardScaler() # in order to normalize the data"
   ]
  },
  {
   "cell_type": "code",
   "execution_count": 60,
   "metadata": {},
   "outputs": [],
   "source": [
    "# df.drop('sample index', axis = 1, inplace = True)"
   ]
  },
  {
   "cell_type": "code",
   "execution_count": 61,
   "metadata": {},
   "outputs": [
    {
     "data": {
      "text/html": [
       "<div>\n",
       "<style scoped>\n",
       "    .dataframe tbody tr th:only-of-type {\n",
       "        vertical-align: middle;\n",
       "    }\n",
       "\n",
       "    .dataframe tbody tr th {\n",
       "        vertical-align: top;\n",
       "    }\n",
       "\n",
       "    .dataframe thead th {\n",
       "        text-align: right;\n",
       "    }\n",
       "</style>\n",
       "<table border=\"1\" class=\"dataframe\">\n",
       "  <thead>\n",
       "    <tr style=\"text-align: right;\">\n",
       "      <th></th>\n",
       "      <th>class_label</th>\n",
       "      <th>sensor0</th>\n",
       "      <th>sensor1</th>\n",
       "      <th>sensor2</th>\n",
       "      <th>sensor3</th>\n",
       "      <th>sensor4</th>\n",
       "      <th>sensor5</th>\n",
       "      <th>sensor6</th>\n",
       "      <th>sensor7</th>\n",
       "      <th>sensor8</th>\n",
       "      <th>sensor9</th>\n",
       "    </tr>\n",
       "  </thead>\n",
       "  <tbody>\n",
       "    <tr>\n",
       "      <th>0</th>\n",
       "      <td>1.0</td>\n",
       "      <td>0.834251</td>\n",
       "      <td>0.726081</td>\n",
       "      <td>0.535904</td>\n",
       "      <td>0.214896</td>\n",
       "      <td>0.873788</td>\n",
       "      <td>0.767605</td>\n",
       "      <td>0.111308</td>\n",
       "      <td>0.557526</td>\n",
       "      <td>0.599650</td>\n",
       "      <td>0.665569</td>\n",
       "    </tr>\n",
       "    <tr>\n",
       "      <th>1</th>\n",
       "      <td>1.0</td>\n",
       "      <td>0.804059</td>\n",
       "      <td>0.253135</td>\n",
       "      <td>0.869867</td>\n",
       "      <td>0.334285</td>\n",
       "      <td>0.604075</td>\n",
       "      <td>0.494045</td>\n",
       "      <td>0.833575</td>\n",
       "      <td>0.194190</td>\n",
       "      <td>0.014966</td>\n",
       "      <td>0.802918</td>\n",
       "    </tr>\n",
       "    <tr>\n",
       "      <th>2</th>\n",
       "      <td>1.0</td>\n",
       "      <td>0.694404</td>\n",
       "      <td>0.595777</td>\n",
       "      <td>0.581294</td>\n",
       "      <td>0.799003</td>\n",
       "      <td>0.762857</td>\n",
       "      <td>0.651393</td>\n",
       "      <td>0.075905</td>\n",
       "      <td>0.007186</td>\n",
       "      <td>0.659633</td>\n",
       "      <td>0.831009</td>\n",
       "    </tr>\n",
       "    <tr>\n",
       "      <th>3</th>\n",
       "      <td>1.0</td>\n",
       "      <td>0.783690</td>\n",
       "      <td>0.038780</td>\n",
       "      <td>0.285043</td>\n",
       "      <td>0.627305</td>\n",
       "      <td>0.800620</td>\n",
       "      <td>0.486340</td>\n",
       "      <td>0.827723</td>\n",
       "      <td>0.339807</td>\n",
       "      <td>0.731343</td>\n",
       "      <td>0.892359</td>\n",
       "    </tr>\n",
       "    <tr>\n",
       "      <th>4</th>\n",
       "      <td>1.0</td>\n",
       "      <td>0.788835</td>\n",
       "      <td>0.174433</td>\n",
       "      <td>0.348770</td>\n",
       "      <td>0.938244</td>\n",
       "      <td>0.692065</td>\n",
       "      <td>0.377620</td>\n",
       "      <td>0.183760</td>\n",
       "      <td>0.616805</td>\n",
       "      <td>0.492899</td>\n",
       "      <td>0.930969</td>\n",
       "    </tr>\n",
       "  </tbody>\n",
       "</table>\n",
       "</div>"
      ],
      "text/plain": [
       "   class_label   sensor0   sensor1   sensor2   sensor3   sensor4   sensor5  \\\n",
       "0          1.0  0.834251  0.726081  0.535904  0.214896  0.873788  0.767605   \n",
       "1          1.0  0.804059  0.253135  0.869867  0.334285  0.604075  0.494045   \n",
       "2          1.0  0.694404  0.595777  0.581294  0.799003  0.762857  0.651393   \n",
       "3          1.0  0.783690  0.038780  0.285043  0.627305  0.800620  0.486340   \n",
       "4          1.0  0.788835  0.174433  0.348770  0.938244  0.692065  0.377620   \n",
       "\n",
       "    sensor6   sensor7   sensor8   sensor9  \n",
       "0  0.111308  0.557526  0.599650  0.665569  \n",
       "1  0.833575  0.194190  0.014966  0.802918  \n",
       "2  0.075905  0.007186  0.659633  0.831009  \n",
       "3  0.827723  0.339807  0.731343  0.892359  \n",
       "4  0.183760  0.616805  0.492899  0.930969  "
      ]
     },
     "execution_count": 61,
     "metadata": {},
     "output_type": "execute_result"
    }
   ],
   "source": [
    "df.head()"
   ]
  },
  {
   "cell_type": "code",
   "execution_count": 62,
   "metadata": {},
   "outputs": [
    {
     "data": {
      "text/plain": [
       "StandardScaler(copy=True, with_mean=True, with_std=True)"
      ]
     },
     "execution_count": 62,
     "metadata": {},
     "output_type": "execute_result"
    }
   ],
   "source": [
    "scaler.fit(df)"
   ]
  },
  {
   "cell_type": "code",
   "execution_count": 63,
   "metadata": {},
   "outputs": [],
   "source": [
    "scaled_data = scaler.transform(df)"
   ]
  },
  {
   "cell_type": "code",
   "execution_count": 64,
   "metadata": {},
   "outputs": [],
   "source": [
    "from sklearn.decomposition import PCA"
   ]
  },
  {
   "cell_type": "code",
   "execution_count": 65,
   "metadata": {},
   "outputs": [],
   "source": [
    "pca = PCA(n_components = 4)"
   ]
  },
  {
   "cell_type": "code",
   "execution_count": 66,
   "metadata": {},
   "outputs": [
    {
     "data": {
      "text/plain": [
       "PCA(copy=True, iterated_power='auto', n_components=4, random_state=None,\n",
       "  svd_solver='auto', tol=0.0, whiten=False)"
      ]
     },
     "execution_count": 66,
     "metadata": {},
     "output_type": "execute_result"
    }
   ],
   "source": [
    "pca.fit(scaled_data)"
   ]
  },
  {
   "cell_type": "code",
   "execution_count": 67,
   "metadata": {},
   "outputs": [],
   "source": [
    "# transform the data to first two components\n",
    "\n",
    "x_pca = pca.transform(scaled_data)"
   ]
  },
  {
   "cell_type": "code",
   "execution_count": 69,
   "metadata": {},
   "outputs": [
    {
     "data": {
      "text/plain": [
       "(400, 4)"
      ]
     },
     "execution_count": 69,
     "metadata": {},
     "output_type": "execute_result"
    }
   ],
   "source": [
    "x_pca.shape"
   ]
  },
  {
   "cell_type": "code",
   "execution_count": 72,
   "metadata": {},
   "outputs": [
    {
     "data": {
      "text/plain": [
       "array([[-1.50302323, -0.87196411, -1.50814838,  0.29951379],\n",
       "       [-0.30301876,  0.98082631,  0.65986595, -0.44042382],\n",
       "       [-1.71856002, -1.49246613, -0.13252827,  1.32491857],\n",
       "       ...,\n",
       "       [ 0.35301403, -0.41163787,  1.22768598,  0.39648639],\n",
       "       [ 1.00997492, -0.30282583, -0.62537353,  1.17964094],\n",
       "       [ 1.15666199, -0.03557246,  1.39309489, -0.09521638]])"
      ]
     },
     "execution_count": 72,
     "metadata": {},
     "output_type": "execute_result"
    }
   ],
   "source": [
    "x_pca"
   ]
  },
  {
   "cell_type": "code",
   "execution_count": 73,
   "metadata": {},
   "outputs": [
    {
     "data": {
      "text/html": [
       "<div>\n",
       "<style scoped>\n",
       "    .dataframe tbody tr th:only-of-type {\n",
       "        vertical-align: middle;\n",
       "    }\n",
       "\n",
       "    .dataframe tbody tr th {\n",
       "        vertical-align: top;\n",
       "    }\n",
       "\n",
       "    .dataframe thead th {\n",
       "        text-align: right;\n",
       "    }\n",
       "</style>\n",
       "<table border=\"1\" class=\"dataframe\">\n",
       "  <thead>\n",
       "    <tr style=\"text-align: right;\">\n",
       "      <th></th>\n",
       "      <th>class_label</th>\n",
       "      <th>sensor0</th>\n",
       "      <th>sensor1</th>\n",
       "      <th>sensor2</th>\n",
       "      <th>sensor3</th>\n",
       "      <th>sensor4</th>\n",
       "      <th>sensor5</th>\n",
       "      <th>sensor6</th>\n",
       "      <th>sensor7</th>\n",
       "      <th>sensor8</th>\n",
       "      <th>sensor9</th>\n",
       "    </tr>\n",
       "  </thead>\n",
       "  <tbody>\n",
       "    <tr>\n",
       "      <th>0</th>\n",
       "      <td>1.0</td>\n",
       "      <td>0.834251</td>\n",
       "      <td>0.726081</td>\n",
       "      <td>0.535904</td>\n",
       "      <td>0.214896</td>\n",
       "      <td>0.873788</td>\n",
       "      <td>0.767605</td>\n",
       "      <td>0.111308</td>\n",
       "      <td>0.557526</td>\n",
       "      <td>0.599650</td>\n",
       "      <td>0.665569</td>\n",
       "    </tr>\n",
       "    <tr>\n",
       "      <th>1</th>\n",
       "      <td>1.0</td>\n",
       "      <td>0.804059</td>\n",
       "      <td>0.253135</td>\n",
       "      <td>0.869867</td>\n",
       "      <td>0.334285</td>\n",
       "      <td>0.604075</td>\n",
       "      <td>0.494045</td>\n",
       "      <td>0.833575</td>\n",
       "      <td>0.194190</td>\n",
       "      <td>0.014966</td>\n",
       "      <td>0.802918</td>\n",
       "    </tr>\n",
       "    <tr>\n",
       "      <th>2</th>\n",
       "      <td>1.0</td>\n",
       "      <td>0.694404</td>\n",
       "      <td>0.595777</td>\n",
       "      <td>0.581294</td>\n",
       "      <td>0.799003</td>\n",
       "      <td>0.762857</td>\n",
       "      <td>0.651393</td>\n",
       "      <td>0.075905</td>\n",
       "      <td>0.007186</td>\n",
       "      <td>0.659633</td>\n",
       "      <td>0.831009</td>\n",
       "    </tr>\n",
       "    <tr>\n",
       "      <th>3</th>\n",
       "      <td>1.0</td>\n",
       "      <td>0.783690</td>\n",
       "      <td>0.038780</td>\n",
       "      <td>0.285043</td>\n",
       "      <td>0.627305</td>\n",
       "      <td>0.800620</td>\n",
       "      <td>0.486340</td>\n",
       "      <td>0.827723</td>\n",
       "      <td>0.339807</td>\n",
       "      <td>0.731343</td>\n",
       "      <td>0.892359</td>\n",
       "    </tr>\n",
       "    <tr>\n",
       "      <th>4</th>\n",
       "      <td>1.0</td>\n",
       "      <td>0.788835</td>\n",
       "      <td>0.174433</td>\n",
       "      <td>0.348770</td>\n",
       "      <td>0.938244</td>\n",
       "      <td>0.692065</td>\n",
       "      <td>0.377620</td>\n",
       "      <td>0.183760</td>\n",
       "      <td>0.616805</td>\n",
       "      <td>0.492899</td>\n",
       "      <td>0.930969</td>\n",
       "    </tr>\n",
       "  </tbody>\n",
       "</table>\n",
       "</div>"
      ],
      "text/plain": [
       "   class_label   sensor0   sensor1   sensor2   sensor3   sensor4   sensor5  \\\n",
       "0          1.0  0.834251  0.726081  0.535904  0.214896  0.873788  0.767605   \n",
       "1          1.0  0.804059  0.253135  0.869867  0.334285  0.604075  0.494045   \n",
       "2          1.0  0.694404  0.595777  0.581294  0.799003  0.762857  0.651393   \n",
       "3          1.0  0.783690  0.038780  0.285043  0.627305  0.800620  0.486340   \n",
       "4          1.0  0.788835  0.174433  0.348770  0.938244  0.692065  0.377620   \n",
       "\n",
       "    sensor6   sensor7   sensor8   sensor9  \n",
       "0  0.111308  0.557526  0.599650  0.665569  \n",
       "1  0.833575  0.194190  0.014966  0.802918  \n",
       "2  0.075905  0.007186  0.659633  0.831009  \n",
       "3  0.827723  0.339807  0.731343  0.892359  \n",
       "4  0.183760  0.616805  0.492899  0.930969  "
      ]
     },
     "execution_count": 73,
     "metadata": {},
     "output_type": "execute_result"
    }
   ],
   "source": [
    "df.head()"
   ]
  },
  {
   "cell_type": "code",
   "execution_count": 74,
   "metadata": {},
   "outputs": [],
   "source": [
    "df_1 = pd.DataFrame(x_pca)"
   ]
  },
  {
   "cell_type": "code",
   "execution_count": 76,
   "metadata": {},
   "outputs": [
    {
     "data": {
      "text/html": [
       "<div>\n",
       "<style scoped>\n",
       "    .dataframe tbody tr th:only-of-type {\n",
       "        vertical-align: middle;\n",
       "    }\n",
       "\n",
       "    .dataframe tbody tr th {\n",
       "        vertical-align: top;\n",
       "    }\n",
       "\n",
       "    .dataframe thead th {\n",
       "        text-align: right;\n",
       "    }\n",
       "</style>\n",
       "<table border=\"1\" class=\"dataframe\">\n",
       "  <thead>\n",
       "    <tr style=\"text-align: right;\">\n",
       "      <th></th>\n",
       "      <th>0</th>\n",
       "      <th>1</th>\n",
       "      <th>2</th>\n",
       "      <th>3</th>\n",
       "    </tr>\n",
       "  </thead>\n",
       "  <tbody>\n",
       "    <tr>\n",
       "      <th>0</th>\n",
       "      <td>-1.503023</td>\n",
       "      <td>-0.871964</td>\n",
       "      <td>-1.508148</td>\n",
       "      <td>0.299514</td>\n",
       "    </tr>\n",
       "    <tr>\n",
       "      <th>1</th>\n",
       "      <td>-0.303019</td>\n",
       "      <td>0.980826</td>\n",
       "      <td>0.659866</td>\n",
       "      <td>-0.440424</td>\n",
       "    </tr>\n",
       "    <tr>\n",
       "      <th>2</th>\n",
       "      <td>-1.718560</td>\n",
       "      <td>-1.492466</td>\n",
       "      <td>-0.132528</td>\n",
       "      <td>1.324919</td>\n",
       "    </tr>\n",
       "    <tr>\n",
       "      <th>3</th>\n",
       "      <td>-2.114390</td>\n",
       "      <td>2.001712</td>\n",
       "      <td>0.553877</td>\n",
       "      <td>0.753356</td>\n",
       "    </tr>\n",
       "    <tr>\n",
       "      <th>4</th>\n",
       "      <td>-1.971729</td>\n",
       "      <td>0.456742</td>\n",
       "      <td>0.167317</td>\n",
       "      <td>0.144092</td>\n",
       "    </tr>\n",
       "  </tbody>\n",
       "</table>\n",
       "</div>"
      ],
      "text/plain": [
       "          0         1         2         3\n",
       "0 -1.503023 -0.871964 -1.508148  0.299514\n",
       "1 -0.303019  0.980826  0.659866 -0.440424\n",
       "2 -1.718560 -1.492466 -0.132528  1.324919\n",
       "3 -2.114390  2.001712  0.553877  0.753356\n",
       "4 -1.971729  0.456742  0.167317  0.144092"
      ]
     },
     "execution_count": 76,
     "metadata": {},
     "output_type": "execute_result"
    }
   ],
   "source": [
    "df_1.head()"
   ]
  },
  {
   "cell_type": "code",
   "execution_count": null,
   "metadata": {},
   "outputs": [],
   "source": []
  }
 ],
 "metadata": {
  "kernelspec": {
   "display_name": "Python 3",
   "language": "python",
   "name": "python3"
  },
  "language_info": {
   "codemirror_mode": {
    "name": "ipython",
    "version": 3
   },
   "file_extension": ".py",
   "mimetype": "text/x-python",
   "name": "python",
   "nbconvert_exporter": "python",
   "pygments_lexer": "ipython3",
   "version": "3.7.3"
  }
 },
 "nbformat": 4,
 "nbformat_minor": 2
}
